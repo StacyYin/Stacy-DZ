{
 "cells": [
  {
   "cell_type": "code",
   "execution_count": 5,
   "metadata": {},
   "outputs": [],
   "source": [
    "import numpy as np\n",
    "import tensorflow as tf\n",
    "import matplotlib.pyplot as plt"
   ]
  },
  {
   "cell_type": "code",
   "execution_count": 9,
   "metadata": {},
   "outputs": [
    {
     "name": "stdout",
     "output_type": "stream",
     "text": [
      "WARNING:tensorflow:From C:\\Users\\yshha\\Anaconda3\\lib\\site-packages\\tensorflow-2.1.0rc0-py3.7-win-amd64.egg\\tensorflow_core\\python\\compat\\v2_compat.py:88: disable_resource_variables (from tensorflow.python.ops.variable_scope) is deprecated and will be removed in a future version.\n",
      "Instructions for updating:\n",
      "non-resource variables are not supported in the long term\n"
     ]
    }
   ],
   "source": [
    "import tensorflow.compat.v1 as tf\n",
    "tf.disable_v2_behavior() "
   ]
  },
  {
   "cell_type": "code",
   "execution_count": 12,
   "metadata": {},
   "outputs": [
    {
     "data": {
      "image/png": "[encoded data removed]",
      "text/plain": [
       "<Figure size 432x288 with 1 Axes>"
      ]
     },
     "metadata": {
      "needs_background": "light"
     },
     "output_type": "display_data"
    }
   ],
   "source": [
    "np.random.seed(100)\n",
    "tf.set_random_seed(100)\n",
    "\n",
    "# Generating random linear data\n",
    "x = np.linspace(0,50,50)\n",
    "y = np.linspace(0,50,50)\n",
    "\n",
    "# Adding noise to the random linear data\n",
    "x += np.random.uniform(-4,4,50)\n",
    "y += np.random.uniform(-4,4,50)\n",
    "\n",
    "n = len(x)\n",
    "\n",
    "# Plot of Training Data\n",
    "plt.scatter(x,y)\n",
    "plt.xlabel(\"x\")\n",
    "plt.ylabel(\"y\")\n",
    "plt.title(\"Traning Data\")\n",
    "plt.show()"
   ]
  },
  {
   "cell_type": "code",
   "execution_count": 15,
   "metadata": {},
   "outputs": [],
   "source": [
    "# Input\n",
    "X = tf.placeholder(\"float\")\n",
    "Y = tf.placeholder(\"float\")\n",
    "# Traning varibles\n",
    "W = tf.Variable(np.random.randn(),name = \"W\")\n",
    "b = tf.Variable(np.random.randn(),name = \"b\")\n",
    "\n",
    "learning_rate = 0.01\n",
    "training_epochs = 1000\n",
    "\n",
    "# Hypothesis\n",
    "y_pred = tf.add(tf.multiply(W,X),b)\n",
    "\n",
    "# Mean Squared Error Cost Function\n",
    "cost = tf.reduce_sum(tf.pow(y_pred - Y,2)) / (2*n)\n",
    "\n",
    "# Gradient Descent Optimizer\n",
    "optimizer = tf.train.GradientDescentOptimizer(learning_rate).minimize(cost)\n",
    "\n",
    "# Global Variables Initializer\n",
    "init = tf.global_variables_initializer()"
   ]
  },
  {
   "cell_type": "code",
   "execution_count": 17,
   "metadata": {},
   "outputs": [
    {
     "name": "stdout",
     "output_type": "stream",
     "text": [
      "Epoch 50 cost = 5.606682 W = 0.9604235 b = 1.1157273\n",
      "Epoch 100 cost = 5.6063323 W = 0.9590781 b = 1.1828089\n",
      "Epoch 150 cost = 5.6073303 W = 0.9578806 b = 1.2425096\n",
      "Epoch 200 cost = 5.609255 W = 0.9568148 b = 1.2956469\n",
      "Epoch 250 cost = 5.6117883 W = 0.9558662 b = 1.3429425\n",
      "Epoch 300 cost = 5.614694 W = 0.95502204 b = 1.3850307\n",
      "Epoch 350 cost = 5.6177926 W = 0.9542708 b = 1.4224906\n",
      "Epoch 400 cost = 5.6209598 W = 0.9536021 b = 1.4558318\n",
      "Epoch 450 cost = 5.6241016 W = 0.9530068 b = 1.4855074\n",
      "Epoch 500 cost = 5.627155 W = 0.9524771 b = 1.5119181\n",
      "Epoch 550 cost = 5.6300745 W = 0.9520056 b = 1.5354245\n",
      "Epoch 600 cost = 5.6328325 W = 0.9515861 b = 1.5563412\n",
      "Epoch 650 cost = 5.6354175 W = 0.9512125 b = 1.5749663\n",
      "Epoch 700 cost = 5.6378164 W = 0.9508801 b = 1.5915408\n",
      "Epoch 750 cost = 5.6400323 W = 0.95058423 b = 1.6062925\n",
      "Epoch 800 cost = 5.642066 W = 0.95032096 b = 1.619417\n",
      "Epoch 850 cost = 5.643928 W = 0.9500866 b = 1.6311008\n",
      "Epoch 900 cost = 5.645624 W = 0.9498781 b = 1.6414986\n",
      "Epoch 950 cost = 5.647166 W = 0.9496924 b = 1.650755\n",
      "Epoch 1000 cost = 5.648564 W = 0.94952714 b = 1.6589965\n",
      "Training cost = 5.648564 Weight = 0.94952714 bias = 1.6589965 \n",
      "\n"
     ]
    }
   ],
   "source": [
    "with tf.Session() as sess:\n",
    "    # Initializing the Variables\n",
    "    sess.run(init)\n",
    "    \n",
    "    # Iterating through all the epochs\n",
    "    for epoch in range(training_epochs):\n",
    "        \n",
    "        # Feeding each data point into the optimizer using Feed Dic\n",
    "        for (_x, _y) in zip(x,y):\n",
    "            sess.run(optimizer, feed_dict = {X: _x, Y: _y})\n",
    "        \n",
    "        # Displaying the result \n",
    "        if (epoch+1)%50 == 0:\n",
    "            c = sess.run(cost, feed_dict = {X: x, Y: y})\n",
    "            print(\"Epoch\",(epoch+1),\"cost =\",c,\"W =\", sess.run(W),\"b =\",sess.run(b))\n",
    "            \n",
    "        # Storing necessary values to be used outside the Session\n",
    "        training_cost = sess.run(cost, feed_dict = {X: x, Y: y})\n",
    "        weight = sess.run(W)\n",
    "        bias = sess.run(b)\n",
    "            \n",
    "# Calculating the predictions\n",
    "predictions = weight * x + bias\n",
    "print(\"Training cost =\", training_cost, \"Weight =\", weight, \"bias =\", bias, '\\n') "
   ]
  },
  {
   "cell_type": "code",
   "execution_count": 18,
   "metadata": {},
   "outputs": [
    {
     "data": {
      "image/png": "[encoded data removed]",
      "text/plain": [
       "<Figure size 432x288 with 1 Axes>"
      ]
     },
     "metadata": {
      "needs_background": "light"
     },
     "output_type": "display_data"
    }
   ],
   "source": [
    "# Plotting the Results\n",
    "plt.plot(x,y,'ro',label = \"original data\")\n",
    "plt.plot(x,predictions,label = \"fitted line\")\n",
    "plt.title(\"Linear Regression Result\")\n",
    "plt.legend()\n",
    "plt.show()"
   ]
  }
 ],
 "metadata": {
  "kernelspec": {
   "display_name": "Python 3",
   "language": "python",
   "name": "python3"
  },
  "language_info": {
   "codemirror_mode": {
    "name": "ipython",
    "version": 3
   },
   "file_extension": ".py",
   "mimetype": "text/x-python",
   "name": "python",
   "nbconvert_exporter": "python",
   "pygments_lexer": "ipython3",
   "version": "3.7.3"
  }
 },
 "nbformat": 4,
 "nbformat_minor": 2
}
