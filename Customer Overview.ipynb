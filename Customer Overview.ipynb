{
 "cells": [
  {
   "cell_type": "code",
   "execution_count": 55,
   "metadata": {},
   "outputs": [
    {
     "data": {
      "text/html": [
       "<div>\n",
       "<style scoped>\n",
       "    .dataframe tbody tr th:only-of-type {\n",
       "        vertical-align: middle;\n",
       "    }\n",
       "\n",
       "    .dataframe tbody tr th {\n",
       "        vertical-align: top;\n",
       "    }\n",
       "\n",
       "    .dataframe thead th {\n",
       "        text-align: right;\n",
       "    }\n",
       "</style>\n",
       "<table border=\"1\" class=\"dataframe\">\n",
       "  <thead>\n",
       "    <tr style=\"text-align: right;\">\n",
       "      <th></th>\n",
       "      <th>customer_id</th>\n",
       "      <th>gender</th>\n",
       "      <th>most_recent_order_date</th>\n",
       "      <th>order_count</th>\n",
       "    </tr>\n",
       "  </thead>\n",
       "  <tbody>\n",
       "    <tr>\n",
       "      <th>0</th>\n",
       "      <td>1000</td>\n",
       "      <td>0</td>\n",
       "      <td>1/1/2017 0:11</td>\n",
       "      <td>198.5</td>\n",
       "    </tr>\n",
       "    <tr>\n",
       "      <th>1</th>\n",
       "      <td>1001</td>\n",
       "      <td>0</td>\n",
       "      <td>1/1/2017 0:29</td>\n",
       "      <td>338.0</td>\n",
       "    </tr>\n",
       "    <tr>\n",
       "      <th>2</th>\n",
       "      <td>1002</td>\n",
       "      <td>1</td>\n",
       "      <td>1/1/2017 1:30</td>\n",
       "      <td>733.0</td>\n",
       "    </tr>\n",
       "    <tr>\n",
       "      <th>1742</th>\n",
       "      <td>1002</td>\n",
       "      <td>1</td>\n",
       "      <td>2/19/2017 21:35</td>\n",
       "      <td>176.0</td>\n",
       "    </tr>\n",
       "    <tr>\n",
       "      <th>928</th>\n",
       "      <td>1002</td>\n",
       "      <td>1</td>\n",
       "      <td>1/23/2017 4:33</td>\n",
       "      <td>148.6</td>\n",
       "    </tr>\n",
       "    <tr>\n",
       "      <th>3</th>\n",
       "      <td>1003</td>\n",
       "      <td>1</td>\n",
       "      <td>1/1/2017 1:34</td>\n",
       "      <td>772.0</td>\n",
       "    </tr>\n",
       "    <tr>\n",
       "      <th>676</th>\n",
       "      <td>1003</td>\n",
       "      <td>1</td>\n",
       "      <td>1/20/2017 5:56</td>\n",
       "      <td>425.5</td>\n",
       "    </tr>\n",
       "    <tr>\n",
       "      <th>4292</th>\n",
       "      <td>1003</td>\n",
       "      <td>1</td>\n",
       "      <td>4/25/2017 9:54</td>\n",
       "      <td>0.0</td>\n",
       "    </tr>\n",
       "    <tr>\n",
       "      <th>4323</th>\n",
       "      <td>1003</td>\n",
       "      <td>1</td>\n",
       "      <td>4/26/2017 2:37</td>\n",
       "      <td>704.0</td>\n",
       "    </tr>\n",
       "    <tr>\n",
       "      <th>4</th>\n",
       "      <td>1004</td>\n",
       "      <td>0</td>\n",
       "      <td>1/1/2017 3:11</td>\n",
       "      <td>508.0</td>\n",
       "    </tr>\n",
       "  </tbody>\n",
       "</table>\n",
       "</div>"
      ],
      "text/plain": [
       "      customer_id  gender most_recent_order_date  order_count\n",
       "0            1000       0          1/1/2017 0:11        198.5\n",
       "1            1001       0          1/1/2017 0:29        338.0\n",
       "2            1002       1          1/1/2017 1:30        733.0\n",
       "1742         1002       1        2/19/2017 21:35        176.0\n",
       "928          1002       1         1/23/2017 4:33        148.6\n",
       "3            1003       1          1/1/2017 1:34        772.0\n",
       "676          1003       1         1/20/2017 5:56        425.5\n",
       "4292         1003       1         4/25/2017 9:54          0.0\n",
       "4323         1003       1         4/26/2017 2:37        704.0\n",
       "4            1004       0          1/1/2017 3:11        508.0"
      ]
     },
     "execution_count": 55,
     "metadata": {},
     "output_type": "execute_result"
    }
   ],
   "source": [
    "import pandas as pd\n",
    "import numpy as np\n",
    "import matplotlib.pyplot as plt\n",
    "from pandas.plotting import register_matplotlib_converters\n",
    "register_matplotlib_converters()\n",
    "from statistics import mean\n",
    "from sklearn.metrics import confusion_matrix\n",
    "\n",
    "# load data set\n",
    "screen = pd.read_csv('screening.csv',header = 0,usecols=['customer_id','gender','date','value'])\n",
    "screen = screen.rename(columns = {'date':'most_recent_order_date','value':'order_count'})\n",
    "# sort by customer id\n",
    "screen = screen.sort_values(by=['customer_id'])\n",
    "screen.head(10)"
   ]
  },
  {
   "cell_type": "code",
   "execution_count": 67,
   "metadata": {},
   "outputs": [
    {
     "data": {
      "image/png": "[encoded data removed]",
      "text/plain": [
       "<Figure size 432x288 with 1 Axes>"
      ]
     },
     "metadata": {
      "needs_background": "light"
     },
     "output_type": "display_data"
    }
   ],
   "source": [
    "# transform to weekly data\n",
    "# calculate the sum of orders\n",
    "screen['most_recent_order_date'] = pd.to_datetime(screen['most_recent_order_date'])\n",
    "order_week = screen.set_index('most_recent_order_date').resample('W').sum()\n",
    "plt.plot(order_week['order_count'])\n",
    "plt.ylabel('count of orders')\n",
    "plt.xlabel('per week')\n",
    "plt.show()"
   ]
  },
  {
   "cell_type": "code",
   "execution_count": 45,
   "metadata": {},
   "outputs": [
    {
     "data": {
      "text/html": [
       "<div>\n",
       "<style scoped>\n",
       "    .dataframe tbody tr th:only-of-type {\n",
       "        vertical-align: middle;\n",
       "    }\n",
       "\n",
       "    .dataframe tbody tr th {\n",
       "        vertical-align: top;\n",
       "    }\n",
       "\n",
       "    .dataframe thead th {\n",
       "        text-align: right;\n",
       "    }\n",
       "</style>\n",
       "<table border=\"1\" class=\"dataframe\">\n",
       "  <thead>\n",
       "    <tr style=\"text-align: right;\">\n",
       "      <th></th>\n",
       "      <th>order_count</th>\n",
       "    </tr>\n",
       "    <tr>\n",
       "      <th>gender</th>\n",
       "      <th></th>\n",
       "    </tr>\n",
       "  </thead>\n",
       "  <tbody>\n",
       "    <tr>\n",
       "      <th>0</th>\n",
       "      <td>363.890006</td>\n",
       "    </tr>\n",
       "    <tr>\n",
       "      <th>1</th>\n",
       "      <td>350.708361</td>\n",
       "    </tr>\n",
       "  </tbody>\n",
       "</table>\n",
       "</div>"
      ],
      "text/plain": [
       "        order_count\n",
       "gender             \n",
       "0        363.890006\n",
       "1        350.708361"
      ]
     },
     "execution_count": 45,
     "metadata": {},
     "output_type": "execute_result"
    }
   ],
   "source": [
    "# mean order varying from gender\n",
    "# select target columns\n",
    "mean_raw = screen.loc[:,['gender','order_count']]\n",
    "# calcute the mean\n",
    "means_0 = mean_raw.groupby('gender').mean()\n",
    "means_0"
   ]
  },
  {
   "cell_type": "markdown",
   "metadata": {},
   "source": [
    "From the chart above, we can see there is no big difference between these two genders."
   ]
  },
  {
   "cell_type": "code",
   "execution_count": 66,
   "metadata": {},
   "outputs": [
    {
     "name": "stdout",
     "output_type": "stream",
     "text": [
      "[[3349 3410]\n",
      " [1463 5249]]\n",
      "0.6382599658525722\n",
      "0.495487498150614\n",
      "0.6959684123025769\n"
     ]
    }
   ],
   "source": [
    "# compute the confusion matrix\n",
    "conf_raw = pd.read_csv('screening.csv', header = 0, usecols=['gender','predicted_gender'])\n",
    "conf = confusion_matrix(conf_raw['gender'],conf_raw['predicted_gender'])\n",
    "\n",
    "accuracy = (conf[0,0]+conf[1,1])/(conf[0,0]+conf[1,1]+conf[0,1]+conf[1,0])\n",
    "recall = conf[0,0]/(conf[0,0]+conf[0,1])\n",
    "precision = conf[0,0]/(conf[0,0]+conf[1,0])\n",
    "\n",
    "# print the confusion matrix\n",
    "print(conf)\n",
    "# print the classification values\n",
    "print(accuracy)\n",
    "print(recall)\n",
    "print(precision)"
   ]
  },
  {
   "cell_type": "markdown",
   "metadata": {},
   "source": [
    "The accuracy is not bad, which means that the prediction is accurate more than half out of samples. However, given that recall is lower than precision, the prediction did miss a lot of positive examples."
   ]
  },
  {
   "cell_type": "markdown",
   "metadata": {},
   "source": [
    "### E\n",
    "When faced with different models, ROC curve can be a useful summary for \n",
    "classifiers. The ideal curve will be close to top left, which has a high recall. For example, when conducting naive forecast and decision tree forecast, the naive forecast will be close to the diagonal line in ROC, while usually decision tree has a better prediction result which is more close to the top left."
   ]
  }
 ],
 "metadata": {
  "kernelspec": {
   "display_name": "Python 3",
   "language": "python",
   "name": "python3"
  },
  "language_info": {
   "codemirror_mode": {
    "name": "ipython",
    "version": 3
   },
   "file_extension": ".py",
   "mimetype": "text/x-python",
   "name": "python",
   "nbconvert_exporter": "python",
   "pygments_lexer": "ipython3",
   "version": "3.7.3"
  }
 },
 "nbformat": 4,
 "nbformat_minor": 2
}
