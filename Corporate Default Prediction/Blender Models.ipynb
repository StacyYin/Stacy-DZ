{
 "cells": [
  {
   "cell_type": "markdown",
   "metadata": {},
   "source": [
    "#  Basic Model Blender"
   ]
  },
  {
   "cell_type": "markdown",
   "metadata": {},
   "source": [
    "# 0. Preparation"
   ]
  },
  {
   "cell_type": "code",
   "execution_count": 1,
   "metadata": {},
   "outputs": [],
   "source": [
    "import numpy as np\n",
    "import pandas as pd\n",
    "import matplotlib.pyplot as plt\n",
    "import seaborn as sns\n",
    "import xgboost as xgb\n",
    "from sklearn.model_selection import RandomizedSearchCV"
   ]
  },
  {
   "cell_type": "code",
   "execution_count": 2,
   "metadata": {},
   "outputs": [
    {
     "name": "stderr",
     "output_type": "stream",
     "text": [
      "C:\\Users\\yshha\\Anaconda3\\lib\\site-packages\\IPython\\core\\interactiveshell.py:3057: DtypeWarning: Columns (5) have mixed types. Specify dtype option on import or set low_memory=False.\n",
      "  interactivity=interactivity, compiler=compiler, result=result)\n"
     ]
    },
    {
     "data": {
      "text/html": [
       "<div>\n",
       "<style scoped>\n",
       "    .dataframe tbody tr th:only-of-type {\n",
       "        vertical-align: middle;\n",
       "    }\n",
       "\n",
       "    .dataframe tbody tr th {\n",
       "        vertical-align: top;\n",
       "    }\n",
       "\n",
       "    .dataframe thead th {\n",
       "        text-align: right;\n",
       "    }\n",
       "</style>\n",
       "<table border=\"1\" class=\"dataframe\">\n",
       "  <thead>\n",
       "    <tr style=\"text-align: right;\">\n",
       "      <th></th>\n",
       "      <th>ID</th>\n",
       "      <th>企业类型</th>\n",
       "      <th>经营期限至</th>\n",
       "      <th>登记机关</th>\n",
       "      <th>企业状态</th>\n",
       "      <th>邮政编码</th>\n",
       "      <th>投资总额</th>\n",
       "      <th>注册资本</th>\n",
       "      <th>核准日期</th>\n",
       "      <th>行业代码</th>\n",
       "      <th>...</th>\n",
       "      <th>应收账款_年末数</th>\n",
       "      <th>一年内到期的非流动资产_年末数</th>\n",
       "      <th>油气资产_年末数</th>\n",
       "      <th>应收补贴款_年末数</th>\n",
       "      <th>应收股利_年末数</th>\n",
       "      <th>应收利息_年末数</th>\n",
       "      <th>应收票据_年末数</th>\n",
       "      <th>预付款项_年末数</th>\n",
       "      <th>资产总计_年末数</th>\n",
       "      <th>在建工程_年末数</th>\n",
       "    </tr>\n",
       "  </thead>\n",
       "  <tbody>\n",
       "    <tr>\n",
       "      <th>0</th>\n",
       "      <td>1</td>\n",
       "      <td>9.0</td>\n",
       "      <td>NaN</td>\n",
       "      <td>1.0</td>\n",
       "      <td>0.0</td>\n",
       "      <td>266300</td>\n",
       "      <td>19.110000</td>\n",
       "      <td>19.110000</td>\n",
       "      <td>00:00.0</td>\n",
       "      <td>5154.0</td>\n",
       "      <td>...</td>\n",
       "      <td>142.310005</td>\n",
       "      <td>0.0</td>\n",
       "      <td>0.0</td>\n",
       "      <td>0.0</td>\n",
       "      <td>0.0</td>\n",
       "      <td>0.0</td>\n",
       "      <td>28.122902</td>\n",
       "      <td>1.004419</td>\n",
       "      <td>632.032182</td>\n",
       "      <td>0.0</td>\n",
       "    </tr>\n",
       "    <tr>\n",
       "      <th>1</th>\n",
       "      <td>3</td>\n",
       "      <td>11.0</td>\n",
       "      <td>NaN</td>\n",
       "      <td>5.0</td>\n",
       "      <td>0.0</td>\n",
       "      <td>266000</td>\n",
       "      <td>29.154194</td>\n",
       "      <td>19.210446</td>\n",
       "      <td>00:00.0</td>\n",
       "      <td>7214.0</td>\n",
       "      <td>...</td>\n",
       "      <td>NaN</td>\n",
       "      <td>NaN</td>\n",
       "      <td>NaN</td>\n",
       "      <td>NaN</td>\n",
       "      <td>NaN</td>\n",
       "      <td>NaN</td>\n",
       "      <td>NaN</td>\n",
       "      <td>NaN</td>\n",
       "      <td>NaN</td>\n",
       "      <td>NaN</td>\n",
       "    </tr>\n",
       "    <tr>\n",
       "      <th>2</th>\n",
       "      <td>9</td>\n",
       "      <td>0.0</td>\n",
       "      <td>NaN</td>\n",
       "      <td>3.0</td>\n",
       "      <td>0.0</td>\n",
       "      <td>266000</td>\n",
       "      <td>NaN</td>\n",
       "      <td>19.120045</td>\n",
       "      <td>13:31.0</td>\n",
       "      <td>2110.0</td>\n",
       "      <td>...</td>\n",
       "      <td>NaN</td>\n",
       "      <td>NaN</td>\n",
       "      <td>NaN</td>\n",
       "      <td>NaN</td>\n",
       "      <td>NaN</td>\n",
       "      <td>NaN</td>\n",
       "      <td>NaN</td>\n",
       "      <td>NaN</td>\n",
       "      <td>NaN</td>\n",
       "      <td>NaN</td>\n",
       "    </tr>\n",
       "    <tr>\n",
       "      <th>3</th>\n",
       "      <td>10</td>\n",
       "      <td>0.0</td>\n",
       "      <td>42:05.0</td>\n",
       "      <td>9.0</td>\n",
       "      <td>0.0</td>\n",
       "      <td>266000</td>\n",
       "      <td>NaN</td>\n",
       "      <td>19.160223</td>\n",
       "      <td>00:00.0</td>\n",
       "      <td>5163.0</td>\n",
       "      <td>...</td>\n",
       "      <td>NaN</td>\n",
       "      <td>NaN</td>\n",
       "      <td>NaN</td>\n",
       "      <td>NaN</td>\n",
       "      <td>NaN</td>\n",
       "      <td>NaN</td>\n",
       "      <td>NaN</td>\n",
       "      <td>NaN</td>\n",
       "      <td>NaN</td>\n",
       "      <td>NaN</td>\n",
       "    </tr>\n",
       "    <tr>\n",
       "      <th>4</th>\n",
       "      <td>14</td>\n",
       "      <td>0.0</td>\n",
       "      <td>NaN</td>\n",
       "      <td>2.0</td>\n",
       "      <td>0.0</td>\n",
       "      <td>266400</td>\n",
       "      <td>NaN</td>\n",
       "      <td>19.210446</td>\n",
       "      <td>00:00.0</td>\n",
       "      <td>5439.0</td>\n",
       "      <td>...</td>\n",
       "      <td>156.901030</td>\n",
       "      <td>0.0</td>\n",
       "      <td>0.0</td>\n",
       "      <td>0.0</td>\n",
       "      <td>0.0</td>\n",
       "      <td>0.0</td>\n",
       "      <td>10.044194</td>\n",
       "      <td>0.508236</td>\n",
       "      <td>319.205293</td>\n",
       "      <td>0.0</td>\n",
       "    </tr>\n",
       "  </tbody>\n",
       "</table>\n",
       "<p>5 rows × 178 columns</p>\n",
       "</div>"
      ],
      "text/plain": [
       "   ID  企业类型    经营期限至  登记机关  企业状态    邮政编码       投资总额       注册资本     核准日期  \\\n",
       "0   1   9.0      NaN   1.0   0.0  266300  19.110000  19.110000  00:00.0   \n",
       "1   3  11.0      NaN   5.0   0.0  266000  29.154194  19.210446  00:00.0   \n",
       "2   9   0.0      NaN   3.0   0.0  266000        NaN  19.120045  13:31.0   \n",
       "3  10   0.0  42:05.0   9.0   0.0  266000        NaN  19.160223  00:00.0   \n",
       "4  14   0.0      NaN   2.0   0.0  266400        NaN  19.210446  00:00.0   \n",
       "\n",
       "     行业代码  ...    应收账款_年末数 一年内到期的非流动资产_年末数 油气资产_年末数  应收补贴款_年末数  应收股利_年末数  \\\n",
       "0  5154.0  ...  142.310005             0.0      0.0        0.0       0.0   \n",
       "1  7214.0  ...         NaN             NaN      NaN        NaN       NaN   \n",
       "2  2110.0  ...         NaN             NaN      NaN        NaN       NaN   \n",
       "3  5163.0  ...         NaN             NaN      NaN        NaN       NaN   \n",
       "4  5439.0  ...  156.901030             0.0      0.0        0.0       0.0   \n",
       "\n",
       "   应收利息_年末数   应收票据_年末数  预付款项_年末数    资产总计_年末数  在建工程_年末数  \n",
       "0       0.0  28.122902  1.004419  632.032182       0.0  \n",
       "1       NaN        NaN       NaN         NaN       NaN  \n",
       "2       NaN        NaN       NaN         NaN       NaN  \n",
       "3       NaN        NaN       NaN         NaN       NaN  \n",
       "4       0.0  10.044194  0.508236  319.205293       0.0  \n",
       "\n",
       "[5 rows x 178 columns]"
      ]
     },
     "execution_count": 2,
     "metadata": {},
     "output_type": "execute_result"
    }
   ],
   "source": [
    "train = pd.read_csv(\"train.csv\")\n",
    "train.head()"
   ]
  },
  {
   "cell_type": "code",
   "execution_count": 3,
   "metadata": {},
   "outputs": [],
   "source": [
    "test = pd.read_csv(\"test.csv\")"
   ]
  },
  {
   "cell_type": "code",
   "execution_count": 4,
   "metadata": {},
   "outputs": [],
   "source": [
    "y_train = pd.read_csv(\"train_label.csv\")\n",
    "y_train = y_train.Label"
   ]
  },
  {
   "cell_type": "code",
   "execution_count": 5,
   "metadata": {},
   "outputs": [
    {
     "name": "stdout",
     "output_type": "stream",
     "text": [
      "170\n",
      "7\n"
     ]
    }
   ],
   "source": [
    "# get the numeric column names\n",
    "col_num = train.select_dtypes(include = \"number\").columns.tolist()\n",
    "col_num.remove(\"ID\")\n",
    "print(len(col_num))\n",
    "\n",
    "# get the objective column names\n",
    "col_obj = train.select_dtypes(include = \"object\").columns.tolist()\n",
    "print(len(col_obj))"
   ]
  },
  {
   "cell_type": "code",
   "execution_count": 6,
   "metadata": {},
   "outputs": [],
   "source": [
    "categorical = ['企业类型', '登记机关', '企业状态', '行业代码', '行业门类', '企业类别', '管辖机关']\n",
    "numerical = list(set(col_num).difference(set(categorical)))\n",
    "categorical = ['企业类别', '企业状态']"
   ]
  },
  {
   "cell_type": "markdown",
   "metadata": {},
   "source": [
    "# 1 Feature Engineering"
   ]
  },
  {
   "cell_type": "markdown",
   "metadata": {},
   "source": [
    "## 1.1 Numerical"
   ]
  },
  {
   "cell_type": "code",
   "execution_count": 7,
   "metadata": {},
   "outputs": [
    {
     "name": "stdout",
     "output_type": "stream",
     "text": [
      "78\n",
      "78\n"
     ]
    }
   ],
   "source": [
    "x_begin = [col for col in numerical if \"年初数\" in col]\n",
    "print(len(x_begin))\n",
    "\n",
    "x_end = [col for col in numerical if \"年末数\" in col]\n",
    "print(len(x_end))\n",
    "\n",
    "x =  [col[:-4] for col in x_begin]"
   ]
  },
  {
   "cell_type": "code",
   "execution_count": 8,
   "metadata": {},
   "outputs": [],
   "source": [
    "for v in x:\n",
    "    train[v + \"_年增量\"] = train[v + \"_年末数\"] - train[v + \"_年初数\"]\n",
    "    test[v + \"_年增量\"] = test[v + \"_年末数\"] - test[v + \"_年初数\"]                                        "
   ]
  },
  {
   "cell_type": "code",
   "execution_count": 9,
   "metadata": {},
   "outputs": [],
   "source": [
    "numerical = list(set(numerical).difference(set(x_begin)))\n",
    "numerical = numerical + [v + \"_年增量\" for v in x]"
   ]
  },
  {
   "cell_type": "markdown",
   "metadata": {},
   "source": [
    "## 1.2 Categorical(“企业类别”): one-hot encoding"
   ]
  },
  {
   "cell_type": "code",
   "execution_count": 10,
   "metadata": {},
   "outputs": [],
   "source": [
    "from sklearn.experimental import enable_iterative_imputer\n",
    "from sklearn.impute import IterativeImputer\n",
    "\n",
    "dummies_train = pd.get_dummies(train[\"企业类别\"],\n",
    "                               prefix = \"企业类别\", drop_first=False)\n",
    "dummies_test = pd.get_dummies(test[\"企业类别\"],\n",
    "                              prefix = \"企业类别\", drop_first=False)\n",
    "\n",
    "dummies_train1 = pd.get_dummies(train[\"管辖机关\"],\n",
    "                               prefix = \"管辖机关\", drop_first=False)\n",
    "dummies_test1 = pd.get_dummies(test[\"管辖机关\"],\n",
    "                              prefix = \"管辖机关\", drop_first=False)\n",
    "\n",
    "dummies_train2 = pd.get_dummies(train[\"行业门类\"],\n",
    "                               prefix = \"行业门类\", drop_first=False)\n",
    "dummies_train2['行业门类_19.0'] = 0\n",
    "dummies_test2 = pd.get_dummies(test[\"行业门类\"],\n",
    "                              prefix = \"行业门类\", drop_first=False)\n",
    "\n",
    "X_train = train[numerical + [\"企业状态\"]].join(dummies_train).join(dummies_train1).join(dummies_train2)\n",
    "X_test = test[numerical + [\"企业状态\"]].join(dummies_test).join(dummies_train1).join(dummies_train2)\n"
   ]
  },
  {
   "cell_type": "markdown",
   "metadata": {},
   "source": [
    "## 1.3 Filling NA with Multiple Imputation Branch"
   ]
  },
  {
   "cell_type": "code",
   "execution_count": 11,
   "metadata": {},
   "outputs": [
    {
     "name": "stderr",
     "output_type": "stream",
     "text": [
      "C:\\Users\\yshha\\Anaconda3\\lib\\site-packages\\ipykernel_launcher.py:2: FutureWarning: Method .as_matrix will be removed in a future version. Use .values instead.\n",
      "  \n",
      "C:\\Users\\yshha\\Anaconda3\\lib\\site-packages\\ipykernel_launcher.py:4: FutureWarning: Method .as_matrix will be removed in a future version. Use .values instead.\n",
      "  after removing the cwd from sys.path.\n"
     ]
    }
   ],
   "source": [
    "# convert none to NA\n",
    "X_train = X_train.as_matrix().astype(np.float)\n",
    "X_train = pd.DataFrame(X_train)\n",
    "X_test = X_test.as_matrix().astype(np.float)\n",
    "X_test = pd.DataFrame(X_test)"
   ]
  },
  {
   "cell_type": "code",
   "execution_count": 12,
   "metadata": {},
   "outputs": [
    {
     "name": "stderr",
     "output_type": "stream",
     "text": [
      "C:\\Users\\yshha\\Anaconda3\\lib\\site-packages\\sklearn\\impute\\_iterative.py:599: ConvergenceWarning: [IterativeImputer] Early stopping criterion not reached.\n",
      "  \" reached.\", ConvergenceWarning)\n",
      "C:\\Users\\yshha\\Anaconda3\\lib\\site-packages\\sklearn\\impute\\_iterative.py:599: ConvergenceWarning: [IterativeImputer] Early stopping criterion not reached.\n",
      "  \" reached.\", ConvergenceWarning)\n"
     ]
    }
   ],
   "source": [
    "# fill NA with MICE\n",
    "imp = IterativeImputer()\n",
    "X_train = pd.DataFrame(imp.fit_transform(X_train))\n",
    "X_test = pd.DataFrame(imp.fit_transform(X_test))"
   ]
  },
  {
   "cell_type": "code",
   "execution_count": 13,
   "metadata": {},
   "outputs": [
    {
     "data": {
      "text/html": [
       "<div>\n",
       "<style scoped>\n",
       "    .dataframe tbody tr th:only-of-type {\n",
       "        vertical-align: middle;\n",
       "    }\n",
       "\n",
       "    .dataframe tbody tr th {\n",
       "        vertical-align: top;\n",
       "    }\n",
       "\n",
       "    .dataframe thead th {\n",
       "        text-align: right;\n",
       "    }\n",
       "</style>\n",
       "<table border=\"1\" class=\"dataframe\">\n",
       "  <thead>\n",
       "    <tr style=\"text-align: right;\">\n",
       "      <th></th>\n",
       "      <th>0</th>\n",
       "      <th>1</th>\n",
       "      <th>2</th>\n",
       "      <th>3</th>\n",
       "      <th>4</th>\n",
       "      <th>5</th>\n",
       "      <th>6</th>\n",
       "      <th>7</th>\n",
       "      <th>8</th>\n",
       "      <th>9</th>\n",
       "      <th>...</th>\n",
       "      <th>191</th>\n",
       "      <th>192</th>\n",
       "      <th>193</th>\n",
       "      <th>194</th>\n",
       "      <th>195</th>\n",
       "      <th>196</th>\n",
       "      <th>197</th>\n",
       "      <th>198</th>\n",
       "      <th>199</th>\n",
       "      <th>200</th>\n",
       "    </tr>\n",
       "  </thead>\n",
       "  <tbody>\n",
       "    <tr>\n",
       "      <th>0</th>\n",
       "      <td>0.000000</td>\n",
       "      <td>532.218401</td>\n",
       "      <td>0.000000</td>\n",
       "      <td>489.934244</td>\n",
       "      <td>0.000000</td>\n",
       "      <td>0.000000</td>\n",
       "      <td>0.000000</td>\n",
       "      <td>585.013852</td>\n",
       "      <td>0.000000</td>\n",
       "      <td>3.181189</td>\n",
       "      <td>...</td>\n",
       "      <td>0.0</td>\n",
       "      <td>0.0</td>\n",
       "      <td>0.0</td>\n",
       "      <td>0.0</td>\n",
       "      <td>0.0</td>\n",
       "      <td>0.0</td>\n",
       "      <td>0.0</td>\n",
       "      <td>0.0</td>\n",
       "      <td>0.0</td>\n",
       "      <td>0.0</td>\n",
       "    </tr>\n",
       "    <tr>\n",
       "      <th>1</th>\n",
       "      <td>337.586649</td>\n",
       "      <td>4041.172913</td>\n",
       "      <td>11.870128</td>\n",
       "      <td>693.913429</td>\n",
       "      <td>83.812029</td>\n",
       "      <td>-1.110551</td>\n",
       "      <td>9.892151</td>\n",
       "      <td>3204.118314</td>\n",
       "      <td>0.155419</td>\n",
       "      <td>1.175269</td>\n",
       "      <td>...</td>\n",
       "      <td>0.0</td>\n",
       "      <td>0.0</td>\n",
       "      <td>0.0</td>\n",
       "      <td>0.0</td>\n",
       "      <td>0.0</td>\n",
       "      <td>0.0</td>\n",
       "      <td>0.0</td>\n",
       "      <td>0.0</td>\n",
       "      <td>0.0</td>\n",
       "      <td>0.0</td>\n",
       "    </tr>\n",
       "    <tr>\n",
       "      <th>2</th>\n",
       "      <td>296.135822</td>\n",
       "      <td>4041.549397</td>\n",
       "      <td>12.026712</td>\n",
       "      <td>694.593448</td>\n",
       "      <td>83.115452</td>\n",
       "      <td>2.722681</td>\n",
       "      <td>9.534785</td>\n",
       "      <td>3202.989380</td>\n",
       "      <td>42.640651</td>\n",
       "      <td>4.637491</td>\n",
       "      <td>...</td>\n",
       "      <td>0.0</td>\n",
       "      <td>0.0</td>\n",
       "      <td>0.0</td>\n",
       "      <td>0.0</td>\n",
       "      <td>0.0</td>\n",
       "      <td>0.0</td>\n",
       "      <td>0.0</td>\n",
       "      <td>0.0</td>\n",
       "      <td>0.0</td>\n",
       "      <td>0.0</td>\n",
       "    </tr>\n",
       "    <tr>\n",
       "      <th>3</th>\n",
       "      <td>285.374426</td>\n",
       "      <td>4041.065889</td>\n",
       "      <td>11.801505</td>\n",
       "      <td>696.076124</td>\n",
       "      <td>84.188191</td>\n",
       "      <td>1.051914</td>\n",
       "      <td>8.837440</td>\n",
       "      <td>3204.070762</td>\n",
       "      <td>41.765796</td>\n",
       "      <td>0.001318</td>\n",
       "      <td>...</td>\n",
       "      <td>0.0</td>\n",
       "      <td>0.0</td>\n",
       "      <td>0.0</td>\n",
       "      <td>0.0</td>\n",
       "      <td>0.0</td>\n",
       "      <td>0.0</td>\n",
       "      <td>0.0</td>\n",
       "      <td>0.0</td>\n",
       "      <td>0.0</td>\n",
       "      <td>0.0</td>\n",
       "    </tr>\n",
       "    <tr>\n",
       "      <th>4</th>\n",
       "      <td>0.000000</td>\n",
       "      <td>316.101911</td>\n",
       "      <td>0.000000</td>\n",
       "      <td>51.730490</td>\n",
       "      <td>0.000000</td>\n",
       "      <td>0.000000</td>\n",
       "      <td>0.000000</td>\n",
       "      <td>322.318888</td>\n",
       "      <td>0.000000</td>\n",
       "      <td>0.893524</td>\n",
       "      <td>...</td>\n",
       "      <td>0.0</td>\n",
       "      <td>0.0</td>\n",
       "      <td>0.0</td>\n",
       "      <td>0.0</td>\n",
       "      <td>0.0</td>\n",
       "      <td>0.0</td>\n",
       "      <td>0.0</td>\n",
       "      <td>0.0</td>\n",
       "      <td>0.0</td>\n",
       "      <td>0.0</td>\n",
       "    </tr>\n",
       "  </tbody>\n",
       "</table>\n",
       "<p>5 rows × 201 columns</p>\n",
       "</div>"
      ],
      "text/plain": [
       "          0            1          2           3          4         5    \\\n",
       "0    0.000000   532.218401   0.000000  489.934244   0.000000  0.000000   \n",
       "1  337.586649  4041.172913  11.870128  693.913429  83.812029 -1.110551   \n",
       "2  296.135822  4041.549397  12.026712  694.593448  83.115452  2.722681   \n",
       "3  285.374426  4041.065889  11.801505  696.076124  84.188191  1.051914   \n",
       "4    0.000000   316.101911   0.000000   51.730490   0.000000  0.000000   \n",
       "\n",
       "        6            7          8         9    ...  191  192  193  194  195  \\\n",
       "0  0.000000   585.013852   0.000000  3.181189  ...  0.0  0.0  0.0  0.0  0.0   \n",
       "1  9.892151  3204.118314   0.155419  1.175269  ...  0.0  0.0  0.0  0.0  0.0   \n",
       "2  9.534785  3202.989380  42.640651  4.637491  ...  0.0  0.0  0.0  0.0  0.0   \n",
       "3  8.837440  3204.070762  41.765796  0.001318  ...  0.0  0.0  0.0  0.0  0.0   \n",
       "4  0.000000   322.318888   0.000000  0.893524  ...  0.0  0.0  0.0  0.0  0.0   \n",
       "\n",
       "   196  197  198  199  200  \n",
       "0  0.0  0.0  0.0  0.0  0.0  \n",
       "1  0.0  0.0  0.0  0.0  0.0  \n",
       "2  0.0  0.0  0.0  0.0  0.0  \n",
       "3  0.0  0.0  0.0  0.0  0.0  \n",
       "4  0.0  0.0  0.0  0.0  0.0  \n",
       "\n",
       "[5 rows x 201 columns]"
      ]
     },
     "execution_count": 13,
     "metadata": {},
     "output_type": "execute_result"
    }
   ],
   "source": [
    "X_train.head()"
   ]
  },
  {
   "cell_type": "markdown",
   "metadata": {},
   "source": [
    "## 1.4 Scale Based on Sparse Matrix"
   ]
  },
  {
   "cell_type": "code",
   "execution_count": 14,
   "metadata": {},
   "outputs": [
    {
     "name": "stderr",
     "output_type": "stream",
     "text": [
      "C:\\Users\\yshha\\Anaconda3\\lib\\site-packages\\sklearn\\preprocessing\\data.py:2863: RuntimeWarning: divide by zero encountered in log\n",
      "  loglike = -n_samples / 2 * np.log(x_trans.var())\n"
     ]
    }
   ],
   "source": [
    "from sklearn.preprocessing import PowerTransformer\n",
    "\n",
    "Scaler = PowerTransformer()\n",
    "Scaler.fit_transform(X_train)\n",
    "X_train = Scaler.transform(X_train)\n",
    "X_test = Scaler.transform(X_test)"
   ]
  },
  {
   "cell_type": "markdown",
   "metadata": {},
   "source": [
    "## 1.6 Basic Models with Default Parameters"
   ]
  },
  {
   "cell_type": "code",
   "execution_count": null,
   "metadata": {},
   "outputs": [
    {
     "name": "stderr",
     "output_type": "stream",
     "text": [
      "C:\\Users\\yshha\\Anaconda3\\lib\\site-packages\\sklearn\\metrics\\classification.py:1437: UndefinedMetricWarning: Precision is ill-defined and being set to 0.0 in labels with no predicted samples.\n",
      "  'precision', 'predicted', average, warn_for)\n",
      "C:\\Users\\yshha\\Anaconda3\\lib\\site-packages\\sklearn\\metrics\\classification.py:1437: UndefinedMetricWarning: Precision is ill-defined and being set to 0.0 in labels with no predicted samples.\n",
      "  'precision', 'predicted', average, warn_for)\n",
      "C:\\Users\\yshha\\Anaconda3\\lib\\site-packages\\sklearn\\metrics\\classification.py:1437: UndefinedMetricWarning: Precision is ill-defined and being set to 0.0 in labels with no predicted samples.\n",
      "  'precision', 'predicted', average, warn_for)\n",
      "C:\\Users\\yshha\\Anaconda3\\lib\\site-packages\\sklearn\\metrics\\classification.py:1437: UndefinedMetricWarning: Precision is ill-defined and being set to 0.0 in labels with no predicted samples.\n",
      "  'precision', 'predicted', average, warn_for)\n",
      "C:\\Users\\yshha\\Anaconda3\\lib\\site-packages\\sklearn\\metrics\\classification.py:1437: UndefinedMetricWarning: Precision is ill-defined and being set to 0.0 in labels with no predicted samples.\n",
      "  'precision', 'predicted', average, warn_for)\n"
     ]
    }
   ],
   "source": [
    "%%time\n",
    "\n",
    "from sklearn.neural_network import MLPClassifier\n",
    "from sklearn.model_selection import GridSearchCV\n",
    "from sklearn.svm import SVC\n",
    "\n",
    "# svc\n",
    "scores = ['precision', 'recall']\n",
    "tuned_parameters = {\n",
    "    'kernel':['rbf','sigmoid','linear'],'gamma':[1e-2,1e-3,1e-4],'C':[1,10,100,1000]}\n",
    "svc = GridSearchCV(SVC(), tuned_parameters, cv = 5, scoring ='%s_macro' % scores[0])\n",
    "svc.fit(X_train, y_train)\n",
    "print(svc.best_score_)\n",
    "\n",
    "# mlp\n",
    "mlp = MLPClassifier(max_iter=100)\n",
    "tune_parameters = {\n",
    "    'hidden_layer_sizes': [(50,50,50), (50,100,50), (100,)],\n",
    "    'activation': ['tanh', 'relu'],\n",
    "    'solver': ['sgd', 'adam'],\n",
    "    'alpha': [0.0001, 0.05],\n",
    "    'learning_rate': ['constant','adaptive'],\n",
    "    }\n",
    "mlp_up = GridSearchCV(mlp, tune_parameters , cv = 5)\n",
    "mlp_up.fit(X_train, y_train)\n",
    "print(mlp_up.best_score_)"
   ]
  },
  {
   "cell_type": "code",
   "execution_count": 148,
   "metadata": {},
   "outputs": [],
   "source": [
    "# blend models based on scores above\n",
    "def blend_models(x):\n",
    "    svc_pred =  svc.predict_proba(x)\n",
    "    mlp_pred =  mlp_up.predict_proba(x)\n",
    "    return ((0.5 * svc_pred) + (0.5 * mlp_pred))"
   ]
  },
  {
   "cell_type": "code",
   "execution_count": 149,
   "metadata": {},
   "outputs": [
    {
     "name": "stderr",
     "output_type": "stream",
     "text": [
      "C:\\Users\\yshha\\Anaconda3\\lib\\site-packages\\sklearn\\svm\\base.py:193: FutureWarning: The default value of gamma will change from 'auto' to 'scale' in version 0.22 to account better for unscaled features. Set gamma explicitly to 'auto' or 'scale' to avoid this warning.\n",
      "  \"avoid this warning.\", FutureWarning)\n"
     ]
    }
   ],
   "source": [
    "submission = pd.read_csv(\"submission_example.csv\")\n",
    "y_pred = blend_models(X_test)\n",
    "submission[\"Label\"] = 1-y_pred\n",
    "submission.to_csv(\"submission_1.csv\", index = False)"
   ]
  }
 ],
 "metadata": {
  "kernelspec": {
   "display_name": "Python 3",
   "language": "python",
   "name": "python3"
  },
  "language_info": {
   "codemirror_mode": {
    "name": "ipython",
    "version": 3
   },
   "file_extension": ".py",
   "mimetype": "text/x-python",
   "name": "python",
   "nbconvert_exporter": "python",
   "pygments_lexer": "ipython3",
   "version": "3.7.3"
  }
 },
 "nbformat": 4,
 "nbformat_minor": 2
}
