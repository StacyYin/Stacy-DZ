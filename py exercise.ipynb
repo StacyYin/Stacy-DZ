{
 "cells": [
  {
   "cell_type": "code",
   "execution_count": 13,
   "metadata": {
    "scrolled": true
   },
   "outputs": [
    {
     "name": "stdout",
     "output_type": "stream",
     "text": [
      "[10, 20, 30, 40, 50, 60, 70, 80, 90, 100, 110, 120, 130, 140, 150, 160, 170, 180, 190, 200]\n",
      "[10, 20, 30, 40, 50, 60, 70, 80, 90, 100, 110, 120, 130, 140, 150, 160, 170, 180, 190, 200]\n"
     ]
    }
   ],
   "source": [
    "#method 1\n",
    "m_list = range(1,21)\n",
    "m = list(map(lambda x:x*10, m_list))\n",
    "print(m)\n",
    "\n",
    "#method 2\n",
    "print([x*10 for x in m_list])"
   ]
  },
  {
   "cell_type": "code",
   "execution_count": 20,
   "metadata": {},
   "outputs": [
    {
     "name": "stdout",
     "output_type": "stream",
     "text": [
      "['1', 1, 2]\n",
      "['1', 1, 2]\n"
     ]
    }
   ],
   "source": [
    "from collections import OrderedDict\n",
    "a = [\"1\", 1, \"1\", 2]\n",
    "a = list(OrderedDict.fromkeys(a))\n",
    "print(a)\n",
    "\n",
    "#2\n",
    "b = []\n",
    "for i in a:\n",
    "    if i not in b:\n",
    "        b.append(i)\n",
    "print(b)"
   ]
  },
  {
   "cell_type": "code",
   "execution_count": 37,
   "metadata": {},
   "outputs": [
    {
     "name": "stdout",
     "output_type": "stream",
     "text": [
      "2\n",
      "2\n",
      "3\n"
     ]
    }
   ],
   "source": [
    "d = {\"a\":1,\"b\":2}\n",
    "print(d[\"b\"])\n",
    "print(d.get(\"b\"))\n",
    "print(d[\"a\"]+d[\"b\"])"
   ]
  },
  {
   "cell_type": "code",
   "execution_count": 45,
   "metadata": {},
   "outputs": [
    {
     "name": "stdout",
     "output_type": "stream",
     "text": [
      "{'a': 1}\n"
     ]
    }
   ],
   "source": [
    "#dic is unordered\n",
    "d = {\"a\":1,\"b\":2}\n",
    "d['c'] = 3\n",
    "d = dict((a,b) for a,b in d.items() if b<=1)\n",
    "print(d)"
   ]
  },
  {
   "cell_type": "code",
   "execution_count": 63,
   "metadata": {},
   "outputs": [
    {
     "name": "stdout",
     "output_type": "stream",
     "text": [
      "a has value [1, 2, 3, 4, 5, 6, 7, 8, 9, 10]\n",
      "b has value [11, 12, 13, 14, 15, 16, 17, 18, 19, 20]\n",
      "c has value [21, 22, 23, 24, 25, 26, 27, 28, 29, 30]\n"
     ]
    }
   ],
   "source": [
    "from pprint import pprint\n",
    "d[\"a\"]= list(range(1,11))\n",
    "d[\"b\"]= list(range(11,21))\n",
    "d[\"c\"]= list(range(21,31))\n",
    "#pprint(d[\"b\"][2])\n",
    "\n",
    "for a,b in d.items():\n",
    "    print(a,\"has value\",b)"
   ]
  },
  {
   "cell_type": "code",
   "execution_count": 69,
   "metadata": {},
   "outputs": [
    {
     "name": "stdout",
     "output_type": "stream",
     "text": [
      "a\n",
      "b\n",
      "c\n",
      "d\n",
      "e\n",
      "f\n",
      "g\n",
      "h\n",
      "i\n",
      "j\n",
      "k\n",
      "l\n",
      "m\n",
      "n\n",
      "o\n",
      "p\n",
      "q\n",
      "r\n",
      "s\n",
      "t\n",
      "u\n",
      "v\n",
      "w\n",
      "x\n",
      "y\n",
      "z\n"
     ]
    }
   ],
   "source": [
    "import string\n",
    "for letter in string.ascii_lowercase:\n",
    "    print(letter)"
   ]
  },
  {
   "cell_type": "code",
   "execution_count": 75,
   "metadata": {},
   "outputs": [
    {
     "name": "stdout",
     "output_type": "stream",
     "text": [
      "4071.5040790523717\n"
     ]
    }
   ],
   "source": [
    "from math import pi\n",
    "\n",
    "def cal(h):\n",
    "    r = 10\n",
    "    volume  = 4*pi*pow(r,3)/3 - pi*(h**2)*(3*r-h)/3\n",
    "    return volume\n",
    "print(cal(2))"
   ]
  },
  {
   "cell_type": "code",
   "execution_count": 81,
   "metadata": {},
   "outputs": [
    {
     "name": "stdout",
     "output_type": "stream",
     "text": [
      "1\n"
     ]
    }
   ],
   "source": [
    "def foo(): \n",
    "    global c \n",
    "    c = 1\n",
    "    return c \n",
    "foo() \n",
    "print(c)"
   ]
  },
  {
   "cell_type": "code",
   "execution_count": 92,
   "metadata": {},
   "outputs": [
    {
     "name": "stdout",
     "output_type": "stream",
     "text": [
      "['I could love', 'you']\n"
     ]
    }
   ],
   "source": [
    "string = \"I could love,you\"\n",
    "con = string.split(\",\")\n",
    "print(con)"
   ]
  },
  {
   "cell_type": "code",
   "execution_count": 97,
   "metadata": {},
   "outputs": [
    {
     "name": "stdout",
     "output_type": "stream",
     "text": [
      "['I', 'could', 'love', 'you']\n"
     ]
    }
   ],
   "source": [
    "import re\n",
    "con = re.split(\" |,\",string)\n",
    "print(con)"
   ]
  },
  {
   "cell_type": "code",
   "execution_count": 103,
   "metadata": {},
   "outputs": [
    {
     "name": "stdout",
     "output_type": "stream",
     "text": [
      "0.5403023058681398\n"
     ]
    }
   ],
   "source": [
    "import math\n",
    "dir(math)\n",
    "print(math.cos(1))"
   ]
  },
  {
   "cell_type": "code",
   "execution_count": 109,
   "metadata": {},
   "outputs": [],
   "source": [
    "import string\n",
    "with open(\"y.txt\",\"w\") as file: \n",
    "    for i in string.ascii_lowercase:\n",
    "        file.write(i+\"\\n\")"
   ]
  },
  {
   "cell_type": "code",
   "execution_count": 115,
   "metadata": {},
   "outputs": [
    {
     "name": "stdout",
     "output_type": "stream",
     "text": [
      "5\n",
      "7\n",
      "9\n",
      "5\n",
      "7\n",
      "9\n"
     ]
    }
   ],
   "source": [
    "import numpy\n",
    "#1\n",
    "a = [1,2,3]\n",
    "b = (4,5,6)\n",
    "c = numpy.zeros(len(a),dtype = int)\n",
    "for i in range(0,len(a)):\n",
    "    c[i]=a[i]+b[i]\n",
    "    print(c[i])\n",
    "#2\n",
    "for i,j in zip(a,b):\n",
    "    print(i+j)"
   ]
  },
  {
   "cell_type": "code",
   "execution_count": 125,
   "metadata": {},
   "outputs": [],
   "source": [
    "import string\n",
    "\n",
    "with open(\"y_1.txt\",\"w\") as file:\n",
    "     a = string.ascii_lowercase[::2]\n",
    "     b = string.ascii_lowercase[1::2]\n",
    "     for i,j in zip(a,b):\n",
    "        file.write(i+j+\"\\n\")           "
   ]
  },
  {
   "cell_type": "code",
   "execution_count": 133,
   "metadata": {},
   "outputs": [],
   "source": [
    "import os\n",
    "\n",
    "if not os.path.exists(\"letters\"):\n",
    "    os.makedirs(\"letters\")\n",
    "\n",
    "for i in string.ascii_lowercase[0:2]:\n",
    "    file = open(\"letters/\"+\"{}.txt\".format(i),\"w\")\n",
    "    file.write(i)\n",
    "    \n",
    "#import glob\n",
    "#glob.glob(\"\")"
   ]
  },
  {
   "cell_type": "code",
   "execution_count": 143,
   "metadata": {},
   "outputs": [
    {
     "name": "stdout",
     "output_type": "stream",
     "text": [
      "What's your age? 4\n",
      "Last year you were 3.\n"
     ]
    }
   ],
   "source": [
    "age = input(\"What's your age? \")\n",
    "age_last_year = int(age) - 1\n",
    "print(\"Last year you were {}.\".format(age_last_year))"
   ]
  },
  {
   "cell_type": "code",
   "execution_count": 147,
   "metadata": {},
   "outputs": [
    {
     "name": "stdout",
     "output_type": "stream",
     "text": [
      "i\n",
      "Enter first name: nancy\n",
      "Enter second name: yin\n",
      "Your first name is nancy and your second name is yin\n"
     ]
    }
   ],
   "source": [
    "print(\"Hey\".replace(\"ey\",\"i\")[-1])\n",
    "firstname = input(\"Enter first name: \")\n",
    "secondname = input(\"Enter second name: \")\n",
    "#python expects a tuple after %\n",
    "print(\"Your first name is %s and your second name is %s\" % (firstname, secondname))"
   ]
  },
  {
   "cell_type": "code",
   "execution_count": 150,
   "metadata": {},
   "outputs": [
    {
     "name": "stdout",
     "output_type": "stream",
     "text": [
      "{'employees': [{'firstName': 'John', 'lastName': 'Doe'}, {'firstName': 'Anna', 'lastName': 'Sooth'}, {'firstName': 'Peter', 'lastName': 'Jones'}], 'owners': [{'firstName': 'Jack', 'lastName': 'Petter'}, {'firstName': 'Jessy', 'lastName': 'Petter'}]}\n"
     ]
    }
   ],
   "source": [
    "d = {\"employees\":[{\"firstName\": \"John\", \"lastName\": \"Doe\"},\n",
    "                {\"firstName\": \"Anna\", \"lastName\": \"Smith\"},\n",
    "                {\"firstName\": \"Peter\", \"lastName\": \"Jones\"}],\n",
    "\"owners\":[{\"firstName\": \"Jack\", \"lastName\": \"Petter\"},\n",
    "          {\"firstName\": \"Jessy\", \"lastName\": \"Petter\"}]}\n",
    "d[\"employees\"][1][\"lastName\"] = 'Sooth'\n",
    "print(d)\n",
    "\n",
    "d[\"employees\"].append(dict(firstName = \"Albert\", lastName = \"Bert\"))"
   ]
  },
  {
   "cell_type": "code",
   "execution_count": null,
   "metadata": {},
   "outputs": [],
   "source": [
    "import json\n",
    "with open(\"company.json\",\"w\") as file:\n",
    "    json.dump(d,file,indent=3)\n",
    "    \n",
    "with open(\"company1.json\",\"r+\") as file:\n",
    "    d = json.loads(file.read())\n",
    "    d[\"employees\"].append(dict(firstname = \"Albert\", lastname = \"Bert\"))\n",
    "    file.seek(0)\n",
    "    json.dump(d,file,indent = 4,sort_keys=True)\n",
    "    #the cursor position\n",
    "    file.truncate()"
   ]
  },
  {
   "cell_type": "code",
   "execution_count": 154,
   "metadata": {},
   "outputs": [
    {
     "name": "stdout",
     "output_type": "stream",
     "text": [
      "Item 0 has index 1\n",
      "Item 1 has index 2\n",
      "Item 2 has index 3\n"
     ]
    }
   ],
   "source": [
    "#file.seek(0)\n",
    "a = [1,2,3]\n",
    "for i in enumerate(a):\n",
    "    print(\"Item\",i[0],\"has index\",i[1])"
   ]
  },
  {
   "cell_type": "code",
   "execution_count": null,
   "metadata": {},
   "outputs": [],
   "source": [
    "#import time\n",
    "i = 1\n",
    "while True:\n",
    "    print(\"Hello\")\n",
    "    time.sleep(i)\n",
    "    i = i+1"
   ]
  },
  {
   "cell_type": "code",
   "execution_count": 3,
   "metadata": {},
   "outputs": [
    {
     "name": "stdout",
     "output_type": "stream",
     "text": [
      "your words:Earth\n",
      "terra\n"
     ]
    }
   ],
   "source": [
    "d = dict(weather = \"clima\", earth = \"terra\", rain = \"chuva\") \n",
    "def trans(user):   \n",
    "    try:\n",
    "        res = d[user]\n",
    "        print(res)\n",
    "    except KeyError:\n",
    "        print(\"Ooops\")\n",
    "user = input(\"your words:\").lower()\n",
    "trans(user)"
   ]
  },
  {
   "cell_type": "code",
   "execution_count": 4,
   "metadata": {},
   "outputs": [
    {
     "name": "stdout",
     "output_type": "stream",
     "text": [
      "Distant regions of space are assumed to exist and to be part of reality as much as we are, even though we can never interact with them. The spatial region that we can affect and be affected by is the observable universe. The observable universe depends on the location of the observer. By traveling, an observer can come into contact with a greater region of spacetime than an observer who remains still. Nevertheless, even the most rapid traveler will not be able to interact with all of space. Typically, the observable universe is taken to mean the portion of the Universe that is observable from our vantage point in the Milky Way.\n"
     ]
    }
   ],
   "source": [
    "import requests\n",
    "#object\n",
    "res = requests.get(\"http://www.pythonhow.com/data/universe.txt\",headers = {'user-agent':'customUserAgent'})\n",
    "#property\n",
    "text = res.text\n",
    "print(text)"
   ]
  },
  {
   "cell_type": "code",
   "execution_count": 5,
   "metadata": {},
   "outputs": [
    {
     "name": "stdout",
     "output_type": "stream",
     "text": [
      "47\n"
     ]
    }
   ],
   "source": [
    "count_num = text.count(\"a\")\n",
    "print(count_num)"
   ]
  },
  {
   "cell_type": "code",
   "execution_count": null,
   "metadata": {},
   "outputs": [],
   "source": [
    "import webbrowser\n",
    "query = input(\"Input your query:\")\n",
    "webbrowser.open(\"https://google.com/search?q=%s\" % query)\n",
    "\n",
    "#import pandas\n",
    "# data = pandas.concat([data1,data2])\n",
    "# data.to_csv(\"x.txt\",index=None)"
   ]
  },
  {
   "cell_type": "code",
   "execution_count": 8,
   "metadata": {},
   "outputs": [
    {
     "data": {
      "image/png": "[encoded data removed]",
      "text/plain": [
       "<Figure size 432x288 with 1 Axes>"
      ]
     },
     "metadata": {
      "needs_background": "light"
     },
     "output_type": "display_data"
    }
   ],
   "source": [
    "import pandas\n",
    "import pylab as plt\n",
    "\n",
    "data = pandas.read_csv(\"http://www.pythonhow.com/data/sampledata.txt\")\n",
    "data.plot(x ='x',y ='y',kind = 'scatter')\n",
    "plt.show()"
   ]
  },
  {
   "cell_type": "code",
   "execution_count": 10,
   "metadata": {},
   "outputs": [
    {
     "name": "stdout",
     "output_type": "stream",
     "text": [
      "Today is Wednesday, March 04, 2020\n"
     ]
    }
   ],
   "source": [
    "from datetime import datetime\n",
    "print(datetime.now().strftime(\"Today is %A, %B %d, %Y\"))"
   ]
  },
  {
   "cell_type": "code",
   "execution_count": 12,
   "metadata": {},
   "outputs": [
    {
     "name": "stdout",
     "output_type": "stream",
     "text": [
      "Age:22\n",
      "1998\n"
     ]
    }
   ],
   "source": [
    "re = int(input(\"Age:\"))\n",
    "print(datetime.now().year - re)"
   ]
  },
  {
   "cell_type": "code",
   "execution_count": 14,
   "metadata": {},
   "outputs": [
    {
     "name": "stdout",
     "output_type": "stream",
     "text": [
      "password:wp123\n",
      "psd is not fine\n",
      "password:wie\n",
      "psd is not fine\n",
      "password:dei1234\n",
      "psd is not fine\n",
      "password:Bij1234\n",
      "psd is fine\n"
     ]
    }
   ],
   "source": [
    "while True:\n",
    "    psd = input(\"password:\")\n",
    "    if any(i.isdigit() for i in psd) and any(i.isupper() for i in psd) and len(psd) >= 5: \n",
    "        print(\"psd is fine\")\n",
    "        break\n",
    "    else:\n",
    "        print(\"psd is not fine\")\n"
   ]
  },
  {
   "cell_type": "code",
   "execution_count": null,
   "metadata": {},
   "outputs": [],
   "source": [
    "while True:\n",
    "    psd = input(\"password:\")\n",
    "    notes = []\n",
    "    if not any(i.isdigit() for i in psd):\n",
    "        notes.append(\"there is no digit\")\n",
    "    if not any(i.isupper() for i in psd):\n",
    "        notes.append(\"there is no uppercase\")   \n",
    "    if len(psd)<5 :\n",
    "        notes.append(\"the length must be at least 5\")\n",
    "    if len(notes) == 0:\n",
    "        print(\"password is fine\")\n",
    "        break\n",
    "    else:\n",
    "        for note in notes:\n",
    "            print(note)"
   ]
  },
  {
   "cell_type": "code",
   "execution_count": 2,
   "metadata": {},
   "outputs": [],
   "source": [
    "with open(\"username.txt\",\"w\") as file:\n",
    "     s = \"bob\\n stella\\n stacy\\n\"\n",
    "     file.write(s)"
   ]
  },
  {
   "cell_type": "code",
   "execution_count": 7,
   "metadata": {},
   "outputs": [
    {
     "name": "stdout",
     "output_type": "stream",
     "text": [
      "True\n"
     ]
    }
   ],
   "source": [
    "with open(\"username.txt\",\"r\") as file:\n",
    "    data = file.read()\n",
    "    name  = 'bob'\n",
    "    print((name in data)) "
   ]
  },
  {
   "cell_type": "code",
   "execution_count": 9,
   "metadata": {},
   "outputs": [
    {
     "data": {
      "text/plain": [
       "\"\\nimport ephem\\njupiter = ephem.Jupiter()\\njupiter.compute('1230/1/1')\\ndistance_au_unites = jupiter.sun_distance\\ndistance_km = distance_au_unites * 149597870.691\\nprint(distance_km)\\n\""
      ]
     },
     "execution_count": 9,
     "metadata": {},
     "output_type": "execute_result"
    }
   ],
   "source": [
    "'''\n",
    "import ephem\n",
    "jupiter = ephem.Jupiter()\n",
    "jupiter.compute('1230/1/1')\n",
    "distance_au_unites = jupiter.sun_distance\n",
    "distance_km = distance_au_unites * 149597870.691\n",
    "print(distance_km)\n",
    "'''"
   ]
  },
  {
   "cell_type": "code",
   "execution_count": 15,
   "metadata": {},
   "outputs": [
    {
     "name": "stdout",
     "output_type": "stream",
     "text": [
      "['Portugal', 'Germany', 'Spain']\n"
     ]
    }
   ],
   "source": [
    "checklist = [\"Portugal\", \"Germany\", \"Munster\", \"Spain\"]\n",
    "data = open(\"country_name.txt\",\"r\").readlines()\n",
    "content = [i.strip(\"\\n\") for i in data]\n",
    "checked = [i for i in checklist if i in content]\n",
    "print(checked)\n"
   ]
  },
  {
   "cell_type": "code",
   "execution_count": 47,
   "metadata": {},
   "outputs": [
    {
     "name": "stdout",
     "output_type": "stream",
     "text": [
      "array(['India', 'Pakistan', 'Nigeria', 'China', 'Indonesia'], dtype=object)\n"
     ]
    }
   ],
   "source": [
    "import pandas as pd\n",
    "from pprint import pprint\n",
    "\n",
    "data = pd.read_csv(\"population.txt\")\n",
    "data[\"density\"] = data[\"population_2013\"] / data[\"area_sqkm\"]\n",
    "data = data.sort_values(by = \"density\",ascending = False)\n",
    "pprint(data.iloc[:5,1].values)\n"
   ]
  },
  {
   "cell_type": "code",
   "execution_count": null,
   "metadata": {},
   "outputs": [],
   "source": [
    "'''\n",
    "import sqlite3\n",
    "\n",
    "conn = sqlite3.connect(\"database.db\")\n",
    "cur  = conn.cursor()\n",
    "cur.execute(\"SELECT COUNTRY\")\n",
    "rows = cur.fetchall()\n",
    "conn.close()\n",
    "\n",
    "df = pd.DataFrame.from_records(rows)\n",
    "df.columns = [...]\n",
    "df.to_csv(\"xxx.csv\",index = False)\n",
    "'''"
   ]
  },
  {
   "cell_type": "code",
   "execution_count": null,
   "metadata": {},
   "outputs": [],
   "source": []
  }
 ],
 "metadata": {
  "kernelspec": {
   "display_name": "Python 3",
   "language": "python",
   "name": "python3"
  },
  "language_info": {
   "codemirror_mode": {
    "name": "ipython",
    "version": 3
   },
   "file_extension": ".py",
   "mimetype": "text/x-python",
   "name": "python",
   "nbconvert_exporter": "python",
   "pygments_lexer": "ipython3",
   "version": "3.7.3"
  }
 },
 "nbformat": 4,
 "nbformat_minor": 2
}
