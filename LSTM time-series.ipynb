{
 "cells": [
  {
   "cell_type": "code",
   "execution_count": 13,
   "metadata": {},
   "outputs": [
    {
     "name": "stdout",
     "output_type": "stream",
     "text": [
      "[[10 15]\n",
      " [20 25]\n",
      " [30 35]] 65\n",
      "[[20 25]\n",
      " [30 35]\n",
      " [40 45]] 85\n",
      "[[30 35]\n",
      " [40 45]\n",
      " [50 55]] 105\n",
      "[[40 45]\n",
      " [50 55]\n",
      " [60 65]] 125\n",
      "[[50 55]\n",
      " [60 65]\n",
      " [70 75]] 145\n",
      "[[60 65]\n",
      " [70 75]\n",
      " [80 85]] 165\n",
      "[[70 75]\n",
      " [80 85]\n",
      " [90 95]] 185\n"
     ]
    }
   ],
   "source": [
    "import numpy as np\n",
    "\n",
    "input_seq1 = np.array([10,20,30,40,50,60,70,80,90,100])\n",
    "input_seq2 = np.array([15,25,35,45,55,65,75,85,95,105])\n",
    "\n",
    "out_seq = np.array([input_seq1[i]+input_seq2[i] for i in range(len(input_seq1))])\n",
    "\n",
    "input_seq1 = input_seq1.reshape((len(input_seq1), 1))\n",
    "input_seq2 = input_seq2.reshape((len(input_seq2), 1))\n",
    "out_seq = out_seq.reshape((len(out_seq), 1))\n",
    "dataset = np.hstack((input_seq1, input_seq2, out_seq))\n",
    "\n",
    "time_steps = 3\n",
    "\n",
    "def split_seq(seq,steps):\n",
    "    X, y= [],[]\n",
    "    for i in range(len(seq)):\n",
    "        end = i + steps\n",
    "        if end > len(seq)-1:\n",
    "            break\n",
    "        X_seq = seq[i:end,:-1]\n",
    "        y_seq = seq[end-1,-1]\n",
    "        X.append(X_seq)\n",
    "        y.append(y_seq)\n",
    "    return np.array(X),np.array(y)       \n",
    "\n",
    "\n",
    "X,y = split_seq(dataset, time_steps)\n",
    "\n",
    "# show the sample data\n",
    "for i in range(len(X)):\n",
    "    print(X[i], y[i])\n",
    "    \n",
    "n_features = X.shape[2]"
   ]
  },
  {
   "cell_type": "code",
   "execution_count": 30,
   "metadata": {},
   "outputs": [],
   "source": [
    "from keras.models import Sequential\n",
    "from keras.layers import LSTM\n",
    "from keras.layers import Dense\n",
    "\n",
    "model = Sequential()\n",
    "model.add(LSTM(50, activation = 'relu', input_shape = (time_steps,n_features)))\n",
    "model.add(Dense(1))\n",
    "model.compile(optimizer = 'adam', loss = 'mse')"
   ]
  },
  {
   "cell_type": "code",
   "execution_count": 31,
   "metadata": {},
   "outputs": [
    {
     "name": "stdout",
     "output_type": "stream",
     "text": [
      "Model: \"sequential_7\"\n",
      "_________________________________________________________________\n",
      "Layer (type)                 Output Shape              Param #   \n",
      "=================================================================\n",
      "lstm_6 (LSTM)                (None, 50)                10600     \n",
      "_________________________________________________________________\n",
      "dense_6 (Dense)              (None, 1)                 51        \n",
      "=================================================================\n",
      "Total params: 10,651\n",
      "Trainable params: 10,651\n",
      "Non-trainable params: 0\n",
      "_________________________________________________________________\n"
     ]
    }
   ],
   "source": [
    "model.summary()"
   ]
  },
  {
   "cell_type": "code",
   "execution_count": 34,
   "metadata": {},
   "outputs": [
    {
     "name": "stdout",
     "output_type": "stream",
     "text": [
      "Epoch 1/50\n",
      "7/7 [==============================] - 0s 708us/step - loss: 91.6072\n",
      "Epoch 2/50\n",
      "7/7 [==============================] - 0s 705us/step - loss: 87.3475\n",
      "Epoch 3/50\n",
      "7/7 [==============================] - 0s 634us/step - loss: 86.6027\n",
      "Epoch 4/50\n",
      "7/7 [==============================] - 0s 621us/step - loss: 87.6724\n",
      "Epoch 5/50\n",
      "7/7 [==============================] - 0s 1ms/step - loss: 89.1958\n",
      "Epoch 6/50\n",
      "7/7 [==============================] - 0s 1ms/step - loss: 90.1393\n",
      "Epoch 7/50\n",
      "7/7 [==============================] - 0s 2ms/step - loss: 89.7205\n",
      "Epoch 8/50\n",
      "7/7 [==============================] - 0s 1ms/step - loss: 87.5609\n",
      "Epoch 9/50\n",
      "7/7 [==============================] - 0s 1ms/step - loss: 84.0196\n",
      "Epoch 10/50\n",
      "7/7 [==============================] - 0s 2ms/step - loss: 80.6547\n",
      "Epoch 11/50\n",
      "7/7 [==============================] - 0s 1ms/step - loss: 77.8538\n",
      "Epoch 12/50\n",
      "7/7 [==============================] - 0s 1ms/step - loss: 74.2512\n",
      "Epoch 13/50\n",
      "7/7 [==============================] - 0s 2ms/step - loss: 69.6299\n",
      "Epoch 14/50\n",
      "7/7 [==============================] - 0s 1ms/step - loss: 64.2450\n",
      "Epoch 15/50\n",
      "7/7 [==============================] - 0s 2ms/step - loss: 58.4917\n",
      "Epoch 16/50\n",
      "7/7 [==============================] - 0s 1ms/step - loss: 52.8089\n",
      "Epoch 17/50\n",
      "7/7 [==============================] - 0s 1ms/step - loss: 47.4489\n",
      "Epoch 18/50\n",
      "7/7 [==============================] - 0s 855us/step - loss: 42.4036\n",
      "Epoch 19/50\n",
      "7/7 [==============================] - 0s 1ms/step - loss: 37.6018\n",
      "Epoch 20/50\n",
      "7/7 [==============================] - 0s 2ms/step - loss: 33.1417\n",
      "Epoch 21/50\n",
      "7/7 [==============================] - 0s 2ms/step - loss: 29.2551\n",
      "Epoch 22/50\n",
      "7/7 [==============================] - 0s 2ms/step - loss: 26.1889\n",
      "Epoch 23/50\n",
      "7/7 [==============================] - 0s 903us/step - loss: 23.8448\n",
      "Epoch 24/50\n",
      "7/7 [==============================] - 0s 855us/step - loss: 21.6945\n",
      "Epoch 25/50\n",
      "7/7 [==============================] - 0s 1ms/step - loss: 19.3217\n",
      "Epoch 26/50\n",
      "7/7 [==============================] - 0s 854us/step - loss: 16.7946\n",
      "Epoch 27/50\n",
      "7/7 [==============================] - 0s 992us/step - loss: 14.4174\n",
      "Epoch 28/50\n",
      "7/7 [==============================] - 0s 1ms/step - loss: 12.3832\n",
      "Epoch 29/50\n",
      "7/7 [==============================] - 0s 876us/step - loss: 10.6842\n",
      "Epoch 30/50\n",
      "7/7 [==============================] - 0s 2ms/step - loss: 9.1950\n",
      "Epoch 31/50\n",
      "7/7 [==============================] - 0s 3ms/step - loss: 7.7847\n",
      "Epoch 32/50\n",
      "7/7 [==============================] - 0s 1ms/step - loss: 6.3891\n",
      "Epoch 33/50\n",
      "7/7 [==============================] - 0s 898us/step - loss: 5.0323\n",
      "Epoch 34/50\n",
      "7/7 [==============================] - 0s 2ms/step - loss: 3.8070\n",
      "Epoch 35/50\n",
      "7/7 [==============================] - 0s 781us/step - loss: 2.8266\n",
      "Epoch 36/50\n",
      "7/7 [==============================] - 0s 866us/step - loss: 2.1586\n",
      "Epoch 37/50\n",
      "7/7 [==============================] - 0s 1ms/step - loss: 1.7711\n",
      "Epoch 38/50\n",
      "7/7 [==============================] - 0s 1ms/step - loss: 1.5448\n",
      "Epoch 39/50\n",
      "7/7 [==============================] - 0s 1ms/step - loss: 1.3640\n",
      "Epoch 40/50\n",
      "7/7 [==============================] - 0s 939us/step - loss: 1.2043\n",
      "Epoch 41/50\n",
      "7/7 [==============================] - 0s 712us/step - loss: 1.1220\n",
      "Epoch 42/50\n",
      "7/7 [==============================] - 0s 706us/step - loss: 1.1697\n",
      "Epoch 43/50\n",
      "7/7 [==============================] - 0s 930us/step - loss: 1.3362\n",
      "Epoch 44/50\n",
      "7/7 [==============================] - 0s 997us/step - loss: 1.5521\n",
      "Epoch 45/50\n",
      "7/7 [==============================] - 0s 2ms/step - loss: 1.7346\n",
      "Epoch 46/50\n",
      "7/7 [==============================] - 0s 2ms/step - loss: 1.8283\n",
      "Epoch 47/50\n",
      "7/7 [==============================] - 0s 1ms/step - loss: 1.8212\n",
      "Epoch 48/50\n",
      "7/7 [==============================] - 0s 1ms/step - loss: 1.7362\n",
      "Epoch 49/50\n",
      "7/7 [==============================] - 0s 1ms/step - loss: 1.6097\n",
      "Epoch 50/50\n",
      "7/7 [==============================] - 0s 1ms/step - loss: 1.4699\n"
     ]
    },
    {
     "data": {
      "text/plain": [
       "<keras.callbacks.callbacks.History at 0x21b7d102780>"
      ]
     },
     "execution_count": 34,
     "metadata": {},
     "output_type": "execute_result"
    }
   ],
   "source": [
    "model.fit(X,y,epochs = 50, verbose = 1)"
   ]
  },
  {
   "cell_type": "code",
   "execution_count": 35,
   "metadata": {},
   "outputs": [
    {
     "name": "stdout",
     "output_type": "stream",
     "text": [
      "1/1 [==============================] - 0s 1ms/step\n",
      "[[204.20636]]\n"
     ]
    }
   ],
   "source": [
    "x_input = np.array([[80,85],[90,95],[95,100]])\n",
    "x_input = x_input.reshape((1,time_steps, n_features))\n",
    "y_ = model.predict(x_input, verbose =1)\n",
    "print(y_)"
   ]
  }
 ],
 "metadata": {
  "kernelspec": {
   "display_name": "Python 3",
   "language": "python",
   "name": "python3"
  },
  "language_info": {
   "codemirror_mode": {
    "name": "ipython",
    "version": 3
   },
   "file_extension": ".py",
   "mimetype": "text/x-python",
   "name": "python",
   "nbconvert_exporter": "python",
   "pygments_lexer": "ipython3",
   "version": "3.7.3"
  }
 },
 "nbformat": 4,
 "nbformat_minor": 2
}
